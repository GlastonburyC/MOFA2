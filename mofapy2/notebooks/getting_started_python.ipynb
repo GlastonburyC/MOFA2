{
 "cells": [
  {
   "cell_type": "markdown",
   "metadata": {},
   "source": [
    "# MOFA+: training a model in Python\n",
    "Author: Ricard Argelaguet.    \n",
    "Affiliation: European Bioinformatics Institute, Cambridge, UK.  \n",
    "Date: 13/11/2019  \n",
    "\n"
   ]
  },
  {
   "cell_type": "markdown",
   "metadata": {},
   "source": [
    "This notebook contains a detailed tutorial on how to train MOFA using Python. If you arrived here, that means that you followed the Python path. \n",
    "\n",
    "A concise template script to run the code below can be found [here](XXX)\n",
    "\n"
   ]
  },
  {
   "cell_type": "markdown",
   "metadata": {},
   "source": [
    "## 1) Load libraries"
   ]
  },
  {
   "cell_type": "code",
   "execution_count": 15,
   "metadata": {
    "pycharm": {
     "is_executing": false
    }
   },
   "outputs": [
    {
     "name": "stdout",
     "output_type": "stream",
     "text": [
      "\n",
      "\n",
      "           |￣￣￣￣￣￣￣|\n",
      "           |             |\n",
      "           |    MOFA+    |\n",
      "           |             |\n",
      "           | ＿＿＿＿＿＿_|\n",
      "           (\\__/) ||\n",
      "           (•ㅅ•)  ||\n",
      "           / 　 づ\n",
      "        \n"
     ]
    }
   ],
   "source": [
    "from mofapy2.run.entry_point import entry_point\n",
    "import pandas as pd\n",
    "import numpy as np\n",
    "\n",
    "# initialise the entry point\n",
    "ent = entry_point()"
   ]
  },
  {
   "cell_type": "markdown",
   "metadata": {},
   "source": [
    "## 2) Load data\n",
    "\n",
    "To create a MOFA+ object you need to specify four dimensions: samples (cells), features, view(s) and group(s). MOFA objects can be created from a wide range of input formats:\n",
    "\n",
    "### 2.1) pandas data.frame format\n",
    "A pandas data.frame with columns `sample`, `group`, `feature`, `view`, `value`.  This is the most intuitive format, as it summarises all omics/groups in a single data structure. Also, there is no need to add rows that correspond to missing data.\n",
    "\n",
    "For example:\n",
    "```\n",
    "sample  group   feature value   view\n",
    "sample1  groupA    gene1   2.8044  RNA\n",
    "sample1  groupA    gene3    2.2069  RNA\n",
    "sample2  groupB    gene2    0.1454  RNA\n",
    "sample2  groupB    gene1     2.7021  RNA\n",
    "sample2  groupB    promoter1    3.8618  Methylation\n",
    "sample3  groupB    promoter2    3.2545  Methylation\n",
    "sample3  groupB    promoter3   1.5014  Methylation\n",
    "```"
   ]
  },
  {
   "cell_type": "markdown",
   "metadata": {},
   "source": [
    "Here we load a simulated data set with the following dimensions:"
   ]
  },
  {
   "cell_type": "code",
   "execution_count": 16,
   "metadata": {},
   "outputs": [
    {
     "data": {
      "text/html": [
       "<div>\n",
       "<style scoped>\n",
       "    .dataframe tbody tr th:only-of-type {\n",
       "        vertical-align: middle;\n",
       "    }\n",
       "\n",
       "    .dataframe tbody tr th {\n",
       "        vertical-align: top;\n",
       "    }\n",
       "\n",
       "    .dataframe thead th {\n",
       "        text-align: right;\n",
       "    }\n",
       "</style>\n",
       "<table border=\"1\" class=\"dataframe\">\n",
       "  <thead>\n",
       "    <tr style=\"text-align: right;\">\n",
       "      <th></th>\n",
       "      <th>sample</th>\n",
       "      <th>group</th>\n",
       "      <th>feature</th>\n",
       "      <th>view</th>\n",
       "      <th>value</th>\n",
       "    </tr>\n",
       "  </thead>\n",
       "  <tbody>\n",
       "    <tr>\n",
       "      <th>0</th>\n",
       "      <td>sample_0_group_0</td>\n",
       "      <td>group_0</td>\n",
       "      <td>feature_0_view_0</td>\n",
       "      <td>view_0</td>\n",
       "      <td>-2.05</td>\n",
       "    </tr>\n",
       "    <tr>\n",
       "      <th>1</th>\n",
       "      <td>sample_1_group_0</td>\n",
       "      <td>group_0</td>\n",
       "      <td>feature_0_view_0</td>\n",
       "      <td>view_0</td>\n",
       "      <td>0.10</td>\n",
       "    </tr>\n",
       "    <tr>\n",
       "      <th>2</th>\n",
       "      <td>sample_2_group_0</td>\n",
       "      <td>group_0</td>\n",
       "      <td>feature_0_view_0</td>\n",
       "      <td>view_0</td>\n",
       "      <td>1.44</td>\n",
       "    </tr>\n",
       "    <tr>\n",
       "      <th>3</th>\n",
       "      <td>sample_3_group_0</td>\n",
       "      <td>group_0</td>\n",
       "      <td>feature_0_view_0</td>\n",
       "      <td>view_0</td>\n",
       "      <td>-0.28</td>\n",
       "    </tr>\n",
       "    <tr>\n",
       "      <th>4</th>\n",
       "      <td>sample_4_group_0</td>\n",
       "      <td>group_0</td>\n",
       "      <td>feature_0_view_0</td>\n",
       "      <td>view_0</td>\n",
       "      <td>-0.88</td>\n",
       "    </tr>\n",
       "  </tbody>\n",
       "</table>\n",
       "</div>"
      ],
      "text/plain": [
       "             sample    group           feature    view  value\n",
       "0  sample_0_group_0  group_0  feature_0_view_0  view_0  -2.05\n",
       "1  sample_1_group_0  group_0  feature_0_view_0  view_0   0.10\n",
       "2  sample_2_group_0  group_0  feature_0_view_0  view_0   1.44\n",
       "3  sample_3_group_0  group_0  feature_0_view_0  view_0  -0.28\n",
       "4  sample_4_group_0  group_0  feature_0_view_0  view_0  -0.88"
      ]
     },
     "execution_count": 16,
     "metadata": {},
     "output_type": "execute_result"
    }
   ],
   "source": [
    "D = [1000,1000] # Number of features per view\n",
    "M = len(D)      # Number of views\n",
    "K = 5           # Number of factors\n",
    "N = [100,100]   # Number of samples per group\n",
    "G = len(N)      # Number of groups\n",
    "\n",
    "data_dt = pd.read_csv(\"/Users/ricard/data/mofaplus/test/data.txt.gz\", sep=\"\\t\")\n",
    "data_dt.head()"
   ]
  },
  {
   "cell_type": "markdown",
   "metadata": {},
   "source": [
    "### 2.2) List of matrices\n",
    "A nested list of numpy arrays, where the first index refers to the view and the second index refers to the group. Samples are stored in the rows and features are stored in the columns. All views for a given group G must have the same samples in the rows. If there is any sample that is missing a particular view, the column needs to be filled with NAs."
   ]
  },
  {
   "cell_type": "markdown",
   "metadata": {},
   "source": [
    "Loading the same data above in matrix format:"
   ]
  },
  {
   "cell_type": "code",
   "execution_count": 17,
   "metadata": {
    "pycharm": {
     "is_executing": false,
     "name": "#%%\n"
    }
   },
   "outputs": [],
   "source": [
    "data_prefix = \"/Users/ricard/data/mofaplus/test\"\n",
    "data_mat = [[None for g in range(G)] for m in range(M)]\n",
    "for m in range(M):\n",
    "    for g in range(G):\n",
    "        data_mat[m][g] = np.loadtxt(\"%s/%d_%d.txt.gz\" % (data_prefix,m,g), delimiter=\"\\t\")"
   ]
  },
  {
   "cell_type": "markdown",
   "metadata": {
    "pycharm": {
     "name": "#%%\n"
    }
   },
   "source": [
    "### 2.3 Define data options\n",
    "- **likelihoods**: likelihood per view (options are \"gaussian\", \"poisson\", \"bernoulli\")\n",
    "- **scale_groups**: if groups have different ranges/variances, it is good practice to scale each group to unit variance. Default is False\n",
    "- **scale_views**: if views have different ranges/variances, it is good practice to scale each view to unit variance. Default is False"
   ]
  },
  {
   "cell_type": "code",
   "execution_count": 18,
   "metadata": {},
   "outputs": [],
   "source": [
    "lik = [\"gaussian\", \"gaussian\"]\n",
    "\n",
    "ent.set_data_options(\n",
    "    likelihoods = lik, \n",
    "    scale_groups = False, \n",
    "    scale_views = False\n",
    ")"
   ]
  },
  {
   "cell_type": "markdown",
   "metadata": {},
   "source": [
    "### 2.4) Add the data to the model\n",
    "\n",
    "This has to be run after defining the data options"
   ]
  },
  {
   "cell_type": "code",
   "execution_count": 19,
   "metadata": {},
   "outputs": [
    {
     "name": "stdout",
     "output_type": "stream",
     "text": [
      "Loaded group='group_0' view='view_0' with N=100 samples and D=1000 features...\n",
      "Loaded group='group_0' view='view_1' with N=100 samples and D=1000 features...\n",
      "Loaded group='group_1' view='view_0' with N=100 samples and D=1000 features...\n",
      "Loaded group='group_1' view='view_1' with N=100 samples and D=1000 features...\n",
      "\n",
      "\n",
      "View names not provided, using default naming convention:\n",
      "- view1, view2, ..., viewM\n",
      "Features names not provided, using default naming convention:\n",
      "- feature1_view1, featureD_viewM\n",
      "\n",
      "Groups names not provided, using default naming convention:\n",
      "- group1, group2, ..., groupG\n",
      "Samples names not provided, using default naming convention:\n",
      "- sample1_group1, sample2_group1, sample1_group2, ..., sampleN_groupG\n",
      "\n",
      "Loaded view='view0' group='group0' with N=100 samples and D=1000 features...\n",
      "Loaded view='view0' group='group1' with N=100 samples and D=1000 features...\n",
      "Loaded view='view1' group='group0' with N=100 samples and D=1000 features...\n",
      "Loaded view='view1' group='group1' with N=100 samples and D=1000 features...\n",
      "\n",
      "\n"
     ]
    }
   ],
   "source": [
    "# option 1: data.frame format (slower)\n",
    "ent.set_data_df(data_dt)\n",
    "\n",
    "# option 2: nested matrix format (faster)\n",
    "ent.set_data_matrix(data_mat)\n",
    "\n",
    "# AnnData format\n",
    "# (...)"
   ]
  },
  {
   "cell_type": "markdown",
   "metadata": {},
   "source": [
    "## 3) Set model options\n",
    "\n",
    "- **factors**: number of factors\n",
    "- **likelihods**: same as in data_opts\n",
    "- **spikeslab_weights**: use spike-slab sparsity prior in the weights? default is TRUE\n",
    "- **ard_factors**: use ARD prior in the factors? Default is TRUE if using multiple groups.\n",
    "- **ard_weights**: use ARD prior in the weights? Default is TRUE. \n",
    "\n",
    "Only change the default model options if you are familiar with the underlying mathematical model!\n"
   ]
  },
  {
   "cell_type": "code",
   "execution_count": 20,
   "metadata": {},
   "outputs": [],
   "source": [
    "ent.set_model_options(\n",
    "    factors = 10, \n",
    "    likelihoods = lik, \n",
    "    spikeslab_weights = True, \n",
    "    ard_factors = True,\n",
    "    ard_weights = True\n",
    ")"
   ]
  },
  {
   "cell_type": "markdown",
   "metadata": {},
   "source": [
    "## 4) Set training options\n",
    "\n",
    "- **iter**: number of iterations. Default is 1000.\n",
    "- **convergence_mode**: \"fast\", \"medium\", \"slow\". For exploration, the fast mode is good enough.\n",
    "- **startELBO**: initial iteration to compute the ELBO (the objective function used to assess convergence)\n",
    "- **elbofreq**: frequency of computations of the ELBO (the objective function used to assess convergence)\n",
    "- **dropR2**: minimum variance explained criteria to drop factors while training\n",
    "gpu_mode: use GPU mode? (needs cupy installed and a functional GPU, see https://cupy.chainer.org/)\n",
    "- **verbose**: verbose mode?\n",
    "- **seed**: random seed"
   ]
  },
  {
   "cell_type": "code",
   "execution_count": 21,
   "metadata": {},
   "outputs": [
    {
     "name": "stdout",
     "output_type": "stream",
     "text": [
      "GPU mode is activated, but GPU not found... switching to CPU mode\n",
      "For GPU mode, you need:\n",
      "1 - Make sure that you are running MOFA+ on a machine with an NVIDIA GPU\n",
      "2 - Install CUPY following instructions on https://docs-cupy.chainer.org/en/stable/install.html\n",
      "\n"
     ]
    }
   ],
   "source": [
    "ent.set_train_options(\n",
    "    iter = 1000, \n",
    "    convergence_mode = \"fast\", \n",
    "    startELBO = 1, \n",
    "    elbofreq = 1, \n",
    "    dropR2 = 0.001, \n",
    "    gpu_mode = True, \n",
    "    verbose = False, \n",
    "    seed = 1\n",
    ")"
   ]
  },
  {
   "cell_type": "markdown",
   "metadata": {},
   "source": [
    "# 5) (Optional)  stochastic inference options\n",
    "\n",
    "If the number of samples is very large (at the order of >1e4), you may want to try the stochastic inference scheme. If combined with GPUs, it makes inference significantly faster. However, it requires some additional hyperparameters that in some data sets may need to be optimised (vignette in preparation).\n",
    "\n",
    "- **batch_size**: float value indicating the batch size (as a fraction of the total data set: 0.10, 0.25 or 0.50)\n",
    "- **learning_rate**: learning rate (we recommend values from 0.25 to 0.75)\n",
    "- **forgetting_rate**: forgetting rate (we recommend values from 0.1 to 0.5)\n"
   ]
  },
  {
   "cell_type": "code",
   "execution_count": 22,
   "metadata": {},
   "outputs": [],
   "source": [
    "# We do not want to use stochastic inference for this data set\n",
    "\n",
    "# ent.set_stochastic_options(\n",
    "# batch_size = 0.5,\n",
    "# learning_rate = 0.5, \n",
    "# forgetting_rate = 0.25\n",
    "#)"
   ]
  },
  {
   "cell_type": "markdown",
   "metadata": {},
   "source": [
    "## 6) Build and train the MOFA object \n",
    "\n",
    "After training, the model will be saved as an hdf5 file"
   ]
  },
  {
   "cell_type": "code",
   "execution_count": 23,
   "metadata": {},
   "outputs": [
    {
     "name": "stdout",
     "output_type": "stream",
     "text": [
      "\n",
      "\n",
      "######################################\n",
      "## Training the model with seed 1 ##\n",
      "######################################\n",
      "\n",
      "\n",
      "ELBO before training: -8835540.98\n",
      "\n",
      "\n",
      "Iteration 1: time=0.06, ELBO=-487709.30, deltaELBO=8347831.676 (94.480142142%), Factors=9\n",
      "Iteration 2: time=0.06, ELBO=-469049.25, deltaELBO=18660.053 (0.211193100%), Factors=8\n",
      "Iteration 3: time=0.06, ELBO=-464646.79, deltaELBO=4402.457 (0.049826687%), Factors=7\n",
      "Iteration 4: time=0.05, ELBO=-461435.87, deltaELBO=3210.924 (0.036340999%), Factors=6\n",
      "Iteration 5: time=0.05, ELBO=-458961.36, deltaELBO=2474.510 (0.028006323%), Factors=5\n",
      "Iteration 6: time=0.04, ELBO=-458747.23, deltaELBO=214.129 (0.002423501%), Factors=5\n",
      "Iteration 7: time=0.04, ELBO=-458622.66, deltaELBO=124.566 (0.001409827%), Factors=5\n",
      "Iteration 8: time=0.04, ELBO=-458523.29, deltaELBO=99.373 (0.001124700%), Factors=5\n",
      "Iteration 9: time=0.04, ELBO=-458427.14, deltaELBO=96.153 (0.001088255%), Factors=5\n",
      "Iteration 10: time=0.04, ELBO=-458325.97, deltaELBO=101.166 (0.001144989%), Factors=5\n",
      "Iteration 11: time=0.04, ELBO=-458215.59, deltaELBO=110.376 (0.001249230%), Factors=5\n",
      "Iteration 12: time=0.04, ELBO=-458092.55, deltaELBO=123.040 (0.001392559%), Factors=5\n",
      "Iteration 13: time=0.04, ELBO=-457953.36, deltaELBO=139.190 (0.001575341%), Factors=5\n",
      "Iteration 14: time=0.04, ELBO=-457794.34, deltaELBO=159.027 (0.001799851%), Factors=5\n",
      "Iteration 15: time=0.04, ELBO=-457610.55, deltaELBO=183.790 (0.002080116%), Factors=5\n",
      "Iteration 16: time=0.03, ELBO=-457398.36, deltaELBO=212.186 (0.002401502%), Factors=5\n",
      "Iteration 17: time=0.04, ELBO=-457162.84, deltaELBO=235.524 (0.002665646%), Factors=5\n",
      "Iteration 18: time=0.04, ELBO=-456921.83, deltaELBO=241.011 (0.002727744%), Factors=5\n",
      "Iteration 19: time=0.04, ELBO=-456703.02, deltaELBO=218.808 (0.002476456%), Factors=5\n",
      "Iteration 20: time=0.04, ELBO=-456524.84, deltaELBO=178.181 (0.002016638%), Factors=5\n",
      "Iteration 21: time=0.04, ELBO=-456387.63, deltaELBO=137.208 (0.001552914%), Factors=5\n",
      "Iteration 22: time=0.06, ELBO=-456283.80, deltaELBO=103.829 (0.001175126%), Factors=5\n",
      "Iteration 23: time=0.06, ELBO=-456204.41, deltaELBO=79.392 (0.000898550%), Factors=5\n",
      "Iteration 24: time=0.06, ELBO=-456141.83, deltaELBO=62.576 (0.000708226%), Factors=5\n",
      "Iteration 25: time=0.06, ELBO=-456090.38, deltaELBO=51.452 (0.000582326%), Factors=5\n",
      "Iteration 26: time=0.06, ELBO=-456046.15, deltaELBO=44.235 (0.000500644%), Factors=5\n",
      "Iteration 27: time=0.05, ELBO=-456006.52, deltaELBO=39.632 (0.000448557%), Factors=5\n",
      "Iteration 28: time=0.05, ELBO=-455969.60, deltaELBO=36.917 (0.000417820%), Factors=5\n",
      "Iteration 29: time=0.05, ELBO=-455933.86, deltaELBO=35.738 (0.000404477%), Factors=5\n",
      "Iteration 30: time=0.05, ELBO=-455898.01, deltaELBO=35.852 (0.000405771%), Factors=5\n",
      "Iteration 31: time=0.05, ELBO=-455861.23, deltaELBO=36.779 (0.000416259%), Factors=5\n",
      "Iteration 32: time=0.08, ELBO=-455823.14, deltaELBO=38.092 (0.000431124%), Factors=5\n",
      "Iteration 33: time=0.11, ELBO=-455783.52, deltaELBO=39.617 (0.000448377%), Factors=5\n",
      "Iteration 34: time=0.06, ELBO=-455742.00, deltaELBO=41.527 (0.000469996%), Factors=5\n",
      "Iteration 35: time=0.06, ELBO=-455697.75, deltaELBO=44.250 (0.000500818%), Factors=5\n",
      "Iteration 36: time=0.06, ELBO=-455649.81, deltaELBO=47.937 (0.000542552%), Factors=5\n",
      "Iteration 37: time=0.06, ELBO=-455597.59, deltaELBO=52.216 (0.000590981%), Factors=5\n",
      "Iteration 38: time=0.06, ELBO=-455540.70, deltaELBO=56.890 (0.000643872%), Factors=5\n",
      "Iteration 39: time=0.07, ELBO=-455478.95, deltaELBO=61.755 (0.000698936%), Factors=5\n",
      "Iteration 40: time=0.05, ELBO=-455412.92, deltaELBO=66.032 (0.000747345%), Factors=5\n",
      "Iteration 41: time=0.05, ELBO=-455343.53, deltaELBO=69.382 (0.000785259%), Factors=5\n",
      "Iteration 42: time=0.05, ELBO=-455271.30, deltaELBO=72.232 (0.000817518%), Factors=5\n",
      "Iteration 43: time=0.05, ELBO=-455195.45, deltaELBO=75.846 (0.000858425%), Factors=5\n",
      "Iteration 44: time=0.06, ELBO=-455115.11, deltaELBO=80.343 (0.000909312%), Factors=5\n",
      "Iteration 45: time=0.05, ELBO=-455034.23, deltaELBO=80.882 (0.000915419%), Factors=5\n",
      "Iteration 46: time=0.05, ELBO=-454960.47, deltaELBO=73.755 (0.000834758%), Factors=5\n",
      "Iteration 47: time=0.05, ELBO=-454898.70, deltaELBO=61.774 (0.000699153%), Factors=5\n",
      "Iteration 48: time=0.05, ELBO=-454851.65, deltaELBO=47.051 (0.000532515%), Factors=5\n",
      "Iteration 49: time=0.05, ELBO=-454818.86, deltaELBO=32.793 (0.000371147%), Factors=5\n",
      "Iteration 50: time=0.05, ELBO=-454795.68, deltaELBO=23.178 (0.000262325%), Factors=5\n",
      "Iteration 51: time=0.05, ELBO=-454777.38, deltaELBO=18.297 (0.000207081%), Factors=5\n",
      "Iteration 52: time=0.04, ELBO=-454760.75, deltaELBO=16.631 (0.000188224%), Factors=5\n",
      "Iteration 53: time=0.05, ELBO=-454743.94, deltaELBO=16.809 (0.000190243%), Factors=5\n",
      "Iteration 54: time=0.05, ELBO=-454726.01, deltaELBO=17.929 (0.000202919%), Factors=5\n",
      "Iteration 55: time=0.05, ELBO=-454706.62, deltaELBO=19.389 (0.000219441%), Factors=5\n",
      "Iteration 56: time=0.05, ELBO=-454685.97, deltaELBO=20.654 (0.000233758%), Factors=5\n",
      "Iteration 57: time=0.07, ELBO=-454664.30, deltaELBO=21.668 (0.000245238%), Factors=5\n",
      "Iteration 58: time=0.05, ELBO=-454641.62, deltaELBO=22.684 (0.000256731%), Factors=5\n",
      "Iteration 59: time=0.04, ELBO=-454617.80, deltaELBO=23.816 (0.000269542%), Factors=5\n",
      "Iteration 60: time=0.05, ELBO=-454592.75, deltaELBO=25.052 (0.000283540%), Factors=5\n",
      "Iteration 61: time=0.05, ELBO=-454566.62, deltaELBO=26.135 (0.000295792%), Factors=5\n",
      "Iteration 62: time=0.05, ELBO=-454539.98, deltaELBO=26.633 (0.000301435%), Factors=5\n",
      "Iteration 63: time=0.05, ELBO=-454514.04, deltaELBO=25.946 (0.000293657%), Factors=5\n",
      "Iteration 64: time=0.04, ELBO=-454490.42, deltaELBO=23.616 (0.000267281%), Factors=5\n",
      "Iteration 65: time=0.05, ELBO=-454470.36, deltaELBO=20.066 (0.000227108%), Factors=5\n",
      "Iteration 66: time=0.05, ELBO=-454454.27, deltaELBO=16.082 (0.000182013%), Factors=5\n",
      "Iteration 67: time=0.05, ELBO=-454441.87, deltaELBO=12.400 (0.000140338%), Factors=5\n",
      "Iteration 68: time=0.05, ELBO=-454432.46, deltaELBO=9.418 (0.000106590%), Factors=5\n",
      "Iteration 69: time=0.05, ELBO=-454425.29, deltaELBO=7.161 (0.000081052%), Factors=5\n",
      "Iteration 70: time=0.05, ELBO=-454419.78, deltaELBO=5.519 (0.000062459%), Factors=5\n",
      "Iteration 71: time=0.05, ELBO=-454415.42, deltaELBO=4.351 (0.000049246%), Factors=5\n",
      "Iteration 72: time=0.05, ELBO=-454411.89, deltaELBO=3.532 (0.000039973%), Factors=5\n",
      "Iteration 73: time=0.05, ELBO=-454408.93, deltaELBO=2.959 (0.000033494%), Factors=5\n",
      "Iteration 74: time=0.08, ELBO=-454406.37, deltaELBO=2.559 (0.000028965%), Factors=5\n",
      "Iteration 75: time=0.05, ELBO=-454404.10, deltaELBO=2.278 (0.000025784%), Factors=5\n",
      "Iteration 76: time=0.05, ELBO=-454402.02, deltaELBO=2.079 (0.000023530%), Factors=5\n",
      "Iteration 77: time=0.05, ELBO=-454400.08, deltaELBO=1.936 (0.000021913%), Factors=5\n",
      "Iteration 78: time=0.04, ELBO=-454398.25, deltaELBO=1.832 (0.000020733%), Factors=5\n",
      "Iteration 79: time=0.05, ELBO=-454396.50, deltaELBO=1.754 (0.000019853%), Factors=5\n",
      "Iteration 80: time=0.05, ELBO=-454394.80, deltaELBO=1.694 (0.000019177%), Factors=5\n",
      "Iteration 81: time=0.04, ELBO=-454393.15, deltaELBO=1.647 (0.000018640%), Factors=5\n",
      "Iteration 82: time=0.05, ELBO=-454391.55, deltaELBO=1.608 (0.000018196%), Factors=5\n",
      "Iteration 83: time=0.05, ELBO=-454389.97, deltaELBO=1.574 (0.000017815%), Factors=5\n",
      "Iteration 84: time=0.05, ELBO=-454388.43, deltaELBO=1.544 (0.000017479%), Factors=5\n",
      "Iteration 85: time=0.06, ELBO=-454386.91, deltaELBO=1.518 (0.000017180%), Factors=5\n",
      "Iteration 86: time=0.05, ELBO=-454385.42, deltaELBO=1.494 (0.000016914%), Factors=5\n",
      "Iteration 87: time=0.05, ELBO=-454383.94, deltaELBO=1.474 (0.000016682%), Factors=5\n",
      "Iteration 88: time=0.05, ELBO=-454382.48, deltaELBO=1.457 (0.000016489%), Factors=5\n",
      "Iteration 89: time=0.05, ELBO=-454381.04, deltaELBO=1.444 (0.000016338%), Factors=5\n",
      "Iteration 90: time=0.05, ELBO=-454379.61, deltaELBO=1.434 (0.000016235%), Factors=5\n",
      "Iteration 91: time=0.05, ELBO=-454378.18, deltaELBO=1.430 (0.000016185%), Factors=5\n",
      "Iteration 92: time=0.07, ELBO=-454376.75, deltaELBO=1.431 (0.000016191%), Factors=5\n",
      "Iteration 93: time=0.11, ELBO=-454375.31, deltaELBO=1.437 (0.000016259%), Factors=5\n",
      "Iteration 94: time=0.07, ELBO=-454373.86, deltaELBO=1.448 (0.000016394%), Factors=5\n",
      "Iteration 95: time=0.05, ELBO=-454372.39, deltaELBO=1.467 (0.000016598%), Factors=5\n"
     ]
    },
    {
     "name": "stdout",
     "output_type": "stream",
     "text": [
      "Iteration 96: time=0.06, ELBO=-454370.90, deltaELBO=1.491 (0.000016878%), Factors=5\n",
      "Iteration 97: time=0.05, ELBO=-454369.38, deltaELBO=1.523 (0.000017236%), Factors=5\n",
      "Iteration 98: time=0.07, ELBO=-454367.82, deltaELBO=1.562 (0.000017676%), Factors=5\n",
      "Iteration 99: time=0.04, ELBO=-454366.21, deltaELBO=1.608 (0.000018204%), Factors=5\n",
      "Iteration 100: time=0.03, ELBO=-451124.79, deltaELBO=3241.416 (0.036686107%), Factors=5\n",
      "Iteration 101: time=0.04, ELBO=-451078.00, deltaELBO=46.794 (0.000529606%), Factors=5\n",
      "Iteration 102: time=0.03, ELBO=-451059.04, deltaELBO=18.959 (0.000214575%), Factors=5\n",
      "Iteration 103: time=0.03, ELBO=-451049.26, deltaELBO=9.786 (0.000110759%), Factors=5\n",
      "Iteration 104: time=0.03, ELBO=-451044.33, deltaELBO=4.929 (0.000055786%), Factors=5\n",
      "Iteration 105: time=0.03, ELBO=-451041.68, deltaELBO=2.643 (0.000029918%), Factors=5\n",
      "Iteration 106: time=0.03, ELBO=-451040.05, deltaELBO=1.628 (0.000018430%), Factors=5\n",
      "Iteration 107: time=0.03, ELBO=-451038.87, deltaELBO=1.187 (0.000013431%), Factors=5\n",
      "Iteration 108: time=0.03, ELBO=-451037.87, deltaELBO=0.999 (0.000011305%), Factors=5\n",
      "Iteration 109: time=0.03, ELBO=-451036.94, deltaELBO=0.924 (0.000010460%), Factors=5\n",
      "Iteration 110: time=0.04, ELBO=-451036.04, deltaELBO=0.900 (0.000010191%), Factors=5\n",
      "Iteration 111: time=0.04, ELBO=-451035.14, deltaELBO=0.900 (0.000010183%), Factors=5\n",
      "Iteration 112: time=0.04, ELBO=-451034.24, deltaELBO=0.909 (0.000010288%), Factors=5\n",
      "Iteration 113: time=0.06, ELBO=-451033.31, deltaELBO=0.922 (0.000010439%), Factors=5\n",
      "Iteration 114: time=0.04, ELBO=-451032.38, deltaELBO=0.937 (0.000010602%), Factors=5\n",
      "Iteration 115: time=0.04, ELBO=-451031.43, deltaELBO=0.951 (0.000010762%), Factors=5\n",
      "Iteration 116: time=0.04, ELBO=-451030.46, deltaELBO=0.964 (0.000010914%), Factors=5\n",
      "Iteration 117: time=0.04, ELBO=-451029.48, deltaELBO=0.977 (0.000011054%), Factors=5\n",
      "Iteration 118: time=0.03, ELBO=-451028.50, deltaELBO=0.988 (0.000011183%), Factors=5\n",
      "Iteration 119: time=0.04, ELBO=-451027.50, deltaELBO=0.999 (0.000011302%), Factors=5\n",
      "Iteration 120: time=0.04, ELBO=-451026.49, deltaELBO=1.008 (0.000011414%), Factors=5\n",
      "Iteration 121: time=0.04, ELBO=-451025.47, deltaELBO=1.018 (0.000011521%), Factors=5\n",
      "Iteration 122: time=0.03, ELBO=-451024.44, deltaELBO=1.027 (0.000011627%), Factors=5\n",
      "Iteration 123: time=0.04, ELBO=-451023.41, deltaELBO=1.037 (0.000011734%), Factors=5\n",
      "Iteration 124: time=0.03, ELBO=-451022.36, deltaELBO=1.047 (0.000011845%), Factors=5\n",
      "Iteration 125: time=0.03, ELBO=-451021.30, deltaELBO=1.057 (0.000011965%), Factors=5\n",
      "Iteration 126: time=0.03, ELBO=-451020.24, deltaELBO=1.069 (0.000012095%), Factors=5\n",
      "Iteration 127: time=0.04, ELBO=-451019.15, deltaELBO=1.081 (0.000012239%), Factors=5\n",
      "Iteration 128: time=0.04, ELBO=-451018.06, deltaELBO=1.095 (0.000012397%), Factors=5\n",
      "Iteration 129: time=0.04, ELBO=-451016.95, deltaELBO=1.111 (0.000012573%), Factors=5\n",
      "Iteration 130: time=0.04, ELBO=-451015.82, deltaELBO=1.128 (0.000012768%), Factors=5\n",
      "Iteration 131: time=0.03, ELBO=-451014.67, deltaELBO=1.147 (0.000012982%), Factors=5\n",
      "Iteration 132: time=0.04, ELBO=-451013.50, deltaELBO=1.168 (0.000013216%), Factors=5\n",
      "Iteration 133: time=0.04, ELBO=-451012.31, deltaELBO=1.190 (0.000013471%), Factors=5\n",
      "Iteration 134: time=0.06, ELBO=-451011.10, deltaELBO=1.214 (0.000013745%), Factors=5\n",
      "Iteration 135: time=0.04, ELBO=-451009.86, deltaELBO=1.240 (0.000014040%), Factors=5\n",
      "Iteration 136: time=0.04, ELBO=-451008.59, deltaELBO=1.268 (0.000014353%), Factors=5\n",
      "Iteration 137: time=0.04, ELBO=-451007.29, deltaELBO=1.297 (0.000014684%), Factors=5\n",
      "Iteration 138: time=0.04, ELBO=-451005.97, deltaELBO=1.328 (0.000015030%), Factors=5\n",
      "Iteration 139: time=0.04, ELBO=-451004.61, deltaELBO=1.360 (0.000015390%), Factors=5\n",
      "Iteration 140: time=0.04, ELBO=-451003.21, deltaELBO=1.392 (0.000015760%), Factors=5\n",
      "Iteration 141: time=0.05, ELBO=-451001.79, deltaELBO=1.426 (0.000016139%), Factors=5\n",
      "Iteration 142: time=0.04, ELBO=-451000.33, deltaELBO=1.460 (0.000016525%), Factors=5\n",
      "Iteration 143: time=0.04, ELBO=-450998.83, deltaELBO=1.495 (0.000016916%), Factors=5\n",
      "Iteration 144: time=0.04, ELBO=-450997.30, deltaELBO=1.530 (0.000017315%), Factors=5\n",
      "Iteration 145: time=0.04, ELBO=-450995.74, deltaELBO=1.566 (0.000017722%), Factors=5\n",
      "Iteration 146: time=0.04, ELBO=-450994.13, deltaELBO=1.603 (0.000018143%), Factors=5\n",
      "Iteration 147: time=0.04, ELBO=-450992.49, deltaELBO=1.642 (0.000018581%), Factors=5\n",
      "Iteration 148: time=0.05, ELBO=-450990.81, deltaELBO=1.682 (0.000019042%), Factors=5\n",
      "Iteration 149: time=0.05, ELBO=-450989.08, deltaELBO=1.726 (0.000019532%), Factors=5\n",
      "Iteration 150: time=0.04, ELBO=-450987.31, deltaELBO=1.772 (0.000020055%), Factors=5\n",
      "Iteration 151: time=0.04, ELBO=-450985.49, deltaELBO=1.822 (0.000020616%), Factors=5\n",
      "Iteration 152: time=0.04, ELBO=-450983.62, deltaELBO=1.875 (0.000021217%), Factors=5\n",
      "Iteration 153: time=0.04, ELBO=-450981.68, deltaELBO=1.932 (0.000021862%), Factors=5\n",
      "Iteration 154: time=0.04, ELBO=-450979.69, deltaELBO=1.992 (0.000022550%), Factors=5\n",
      "Iteration 155: time=0.05, ELBO=-450977.63, deltaELBO=2.057 (0.000023285%), Factors=5\n",
      "Iteration 156: time=0.05, ELBO=-450975.51, deltaELBO=2.126 (0.000024066%), Factors=5\n",
      "Iteration 157: time=0.04, ELBO=-450973.31, deltaELBO=2.200 (0.000024896%), Factors=5\n",
      "Iteration 158: time=0.04, ELBO=-450971.03, deltaELBO=2.278 (0.000025778%), Factors=5\n",
      "Iteration 159: time=0.04, ELBO=-450968.67, deltaELBO=2.361 (0.000026717%), Factors=5\n",
      "Iteration 160: time=0.04, ELBO=-450966.22, deltaELBO=2.449 (0.000027717%), Factors=5\n",
      "Iteration 161: time=0.05, ELBO=-450963.68, deltaELBO=2.543 (0.000028786%), Factors=5\n",
      "Iteration 162: time=0.05, ELBO=-450961.03, deltaELBO=2.644 (0.000029930%), Factors=5\n",
      "Iteration 163: time=0.04, ELBO=-450958.28, deltaELBO=2.753 (0.000031157%), Factors=5\n",
      "Iteration 164: time=0.04, ELBO=-450955.41, deltaELBO=2.869 (0.000032474%), Factors=5\n",
      "Iteration 165: time=0.04, ELBO=-450952.42, deltaELBO=2.994 (0.000033891%), Factors=5\n",
      "Iteration 166: time=0.04, ELBO=-450949.29, deltaELBO=3.129 (0.000035419%), Factors=5\n",
      "Iteration 167: time=0.04, ELBO=-450946.01, deltaELBO=3.275 (0.000037071%), Factors=5\n",
      "Iteration 168: time=0.05, ELBO=-450942.58, deltaELBO=3.434 (0.000038868%), Factors=5\n",
      "Iteration 169: time=0.04, ELBO=-450938.97, deltaELBO=3.608 (0.000040839%), Factors=5\n",
      "Iteration 170: time=0.04, ELBO=-450935.17, deltaELBO=3.801 (0.000043021%), Factors=5\n",
      "Iteration 171: time=0.04, ELBO=-450931.15, deltaELBO=4.017 (0.000045464%), Factors=5\n",
      "Iteration 172: time=0.04, ELBO=-450926.89, deltaELBO=4.262 (0.000048234%), Factors=5\n",
      "Iteration 173: time=0.04, ELBO=-450922.35, deltaELBO=4.542 (0.000051409%), Factors=5\n",
      "Iteration 174: time=0.05, ELBO=-450917.48, deltaELBO=4.867 (0.000055082%), Factors=5\n",
      "Iteration 175: time=0.04, ELBO=-450912.24, deltaELBO=5.244 (0.000059355%), Factors=5\n",
      "Iteration 176: time=0.04, ELBO=-450906.55, deltaELBO=5.684 (0.000064330%), Factors=5\n",
      "Iteration 177: time=0.04, ELBO=-450900.36, deltaELBO=6.193 (0.000070094%), Factors=5\n",
      "Iteration 178: time=0.04, ELBO=-450893.58, deltaELBO=6.777 (0.000076697%), Factors=5\n",
      "Iteration 179: time=0.04, ELBO=-450886.15, deltaELBO=7.435 (0.000084148%), Factors=5\n",
      "Iteration 180: time=0.03, ELBO=-450877.98, deltaELBO=8.166 (0.000092421%), Factors=5\n",
      "Iteration 181: time=0.04, ELBO=-450869.02, deltaELBO=8.966 (0.000101479%), Factors=5\n",
      "Iteration 182: time=0.05, ELBO=-450859.18, deltaELBO=9.834 (0.000111297%), Factors=5\n",
      "Iteration 183: time=0.04, ELBO=-450848.41, deltaELBO=10.769 (0.000121887%), Factors=5\n",
      "Iteration 184: time=0.04, ELBO=-450836.63, deltaELBO=11.783 (0.000133358%), Factors=5\n",
      "Iteration 185: time=0.05, ELBO=-450823.73, deltaELBO=12.901 (0.000146017%), Factors=5\n",
      "Iteration 186: time=0.04, ELBO=-450809.55, deltaELBO=14.173 (0.000160411%), Factors=5\n",
      "Iteration 187: time=0.04, ELBO=-450793.90, deltaELBO=15.657 (0.000177201%), Factors=5\n",
      "Iteration 188: time=0.04, ELBO=-450776.50, deltaELBO=17.399 (0.000196923%), Factors=5\n",
      "Iteration 189: time=0.04, ELBO=-450757.07, deltaELBO=19.429 (0.000219898%), Factors=5\n",
      "Iteration 190: time=0.04, ELBO=-450735.29, deltaELBO=21.782 (0.000246522%), Factors=5\n",
      "Iteration 191: time=0.04, ELBO=-450710.76, deltaELBO=24.529 (0.000277618%), Factors=5\n",
      "Iteration 192: time=0.04, ELBO=-450682.99, deltaELBO=27.772 (0.000314323%), Factors=5\n"
     ]
    },
    {
     "name": "stdout",
     "output_type": "stream",
     "text": [
      "Iteration 193: time=0.04, ELBO=-450651.40, deltaELBO=31.583 (0.000357454%), Factors=5\n",
      "Iteration 194: time=0.04, ELBO=-450615.44, deltaELBO=35.962 (0.000407019%), Factors=5\n",
      "Iteration 195: time=0.05, ELBO=-450574.53, deltaELBO=40.911 (0.000463027%), Factors=5\n",
      "Iteration 196: time=0.05, ELBO=-450527.92, deltaELBO=46.606 (0.000527489%), Factors=5\n",
      "Iteration 197: time=0.05, ELBO=-450474.44, deltaELBO=53.483 (0.000605313%), Factors=5\n",
      "Iteration 198: time=0.04, ELBO=-450412.99, deltaELBO=61.455 (0.000695546%), Factors=5\n",
      "Iteration 199: time=0.04, ELBO=-450344.72, deltaELBO=68.265 (0.000772622%), Factors=5\n",
      "Iteration 200: time=0.04, ELBO=-450274.34, deltaELBO=70.380 (0.000796556%), Factors=5\n",
      "Iteration 201: time=0.04, ELBO=-450209.18, deltaELBO=65.163 (0.000737510%), Factors=5\n",
      "Iteration 202: time=0.05, ELBO=-450155.72, deltaELBO=53.460 (0.000605061%), Factors=5\n",
      "Iteration 203: time=0.05, ELBO=-450114.53, deltaELBO=41.188 (0.000466165%), Factors=5\n",
      "Iteration 204: time=0.04, ELBO=-450080.19, deltaELBO=34.343 (0.000388692%), Factors=5\n",
      "Iteration 205: time=0.04, ELBO=-450047.20, deltaELBO=32.983 (0.000373302%), Factors=5\n",
      "Iteration 206: time=0.05, ELBO=-450012.14, deltaELBO=35.067 (0.000396885%), Factors=5\n",
      "Iteration 207: time=0.06, ELBO=-449972.67, deltaELBO=39.469 (0.000446710%), Factors=5\n",
      "Iteration 208: time=0.05, ELBO=-449926.91, deltaELBO=45.755 (0.000517848%), Factors=5\n",
      "Iteration 209: time=0.05, ELBO=-449874.66, deltaELBO=52.252 (0.000591388%), Factors=5\n",
      "Iteration 210: time=0.05, ELBO=-449820.72, deltaELBO=53.937 (0.000610453%), Factors=5\n",
      "Iteration 211: time=0.05, ELBO=-449772.74, deltaELBO=47.983 (0.000543069%), Factors=5\n",
      "Iteration 212: time=0.05, ELBO=-449737.13, deltaELBO=35.606 (0.000402985%), Factors=5\n",
      "Iteration 213: time=0.05, ELBO=-449716.47, deltaELBO=20.663 (0.000233857%), Factors=5\n",
      "Iteration 214: time=0.05, ELBO=-449707.07, deltaELBO=9.406 (0.000106454%), Factors=5\n",
      "Iteration 215: time=0.04, ELBO=-449703.64, deltaELBO=3.429 (0.000038809%), Factors=5\n",
      "Iteration 216: time=0.04, ELBO=-449702.72, deltaELBO=0.912 (0.000010327%), Factors=5\n",
      "Iteration 217: time=0.04, ELBO=-449702.68, deltaELBO=0.043 (0.000000485%), Factors=5\n",
      "Iteration 218: time=0.04, ELBO=-449702.86, deltaELBO=-0.179 (0.000002024%), Factors=5\n",
      "Warning, lower bound is decreasing...\u0007\n",
      "Iteration 219: time=0.04, ELBO=-449703.05, deltaELBO=-0.186 (0.000002104%), Factors=5\n",
      "Warning, lower bound is decreasing...\u0007\n",
      "Iteration 220: time=0.04, ELBO=-449703.19, deltaELBO=-0.140 (0.000001589%), Factors=5\n",
      "Warning, lower bound is decreasing...\u0007\n",
      "\n",
      "Converged!\n",
      "\n",
      "\n",
      "\n",
      "#######################\n",
      "## Training finished ##\n",
      "#######################\n",
      "\n",
      "\n",
      "Saving model in /Users/ricard/data/mofaplus/hdf5/test.hdf5...\n",
      "\n"
     ]
    }
   ],
   "source": [
    "ent.build()\n",
    "\n",
    "ent.run()\n",
    "\n",
    "# Save the output\n",
    "outfile = \"/Users/ricard/data/mofaplus/hdf5/test.hdf5\"\n",
    "ent.save(outfile)"
   ]
  },
  {
   "cell_type": "markdown",
   "metadata": {},
   "source": [
    "## 7) Downstream analysis\n",
    "\n",
    "This finishes the tutorial on how to train a MOFA object from python. To continue with the downstream analysis you have to switch to R. Please, follow [this tutorial](https://raw.githack.com/bioFAM/MOFA2/master/MOFA2/vignettes/downstream_analysis.html)"
   ]
  }
 ],
 "metadata": {
  "kernelspec": {
   "display_name": "Python 3",
   "language": "python",
   "name": "python3"
  },
  "language_info": {
   "codemirror_mode": {
    "name": "ipython",
    "version": 3
   },
   "file_extension": ".py",
   "mimetype": "text/x-python",
   "name": "python",
   "nbconvert_exporter": "python",
   "pygments_lexer": "ipython3",
   "version": "3.6.7"
  },
  "latex_metadata": {
   "affiliation": "European Bioinformatics Institute, Cambridge, UK",
   "author": "Ricard Argelaguet",
   "title": "MOFA+: training a model with Python"
  },
  "pycharm": {
   "stem_cell": {
    "cell_type": "raw",
    "metadata": {
     "collapsed": false
    },
    "source": []
   }
  }
 },
 "nbformat": 4,
 "nbformat_minor": 2
}
